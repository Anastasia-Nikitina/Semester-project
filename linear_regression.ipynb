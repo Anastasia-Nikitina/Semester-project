{
 "cells": [
  {
   "cell_type": "code",
   "execution_count": 2,
   "id": "eb17c743",
   "metadata": {
    "scrolled": true
   },
   "outputs": [
    {
     "data": {
      "text/plain": [
       "<function matplotlib.pyplot.show(close=None, block=None)>"
      ]
     },
     "execution_count": 2,
     "metadata": {},
     "output_type": "execute_result"
    },
    {
     "data": {
      "image/png": "[encoded data removed]",
      "text/plain": [
       "<Figure size 432x288 with 1 Axes>"
      ]
     },
     "metadata": {
      "needs_background": "light"
     },
     "output_type": "display_data"
    }
   ],
   "source": [
    "import pandas as pd\n",
    "import matplotlib.pyplot as plt\n",
    "import numpy as np\n",
    "import numpy.linalg as lng\n",
    "\n",
    "data = pd.read_csv(\"./dataset.csv\")\n",
    "\n",
    "X = data.iloc[:, 0]\n",
    "Y = data.iloc[:, 1]\n",
    "\n",
    "theta_0 = 1\n",
    "theta_1 = 1\n",
    "alpha = 0.0001\n",
    "n = len(X)\n",
    "epsilon = 0.0001\n",
    "\n",
    "def hyp(X, theta_0, theta_1):\n",
    "    return(X*theta_1 + theta_0)\n",
    "\n",
    "H = hyp(X, theta_0, theta_1)\n",
    "\n",
    "while True:\n",
    "    H = hyp(X, theta_0, theta_1)\n",
    "    theta_0 -= (alpha/n) * np.sum(H - Y)\n",
    "    theta_1 -= (alpha/n) * np.sum(X * (H - Y))\n",
    "    if all (np.absolute(H - hyp(X, theta_0, theta_1)) < epsilon):\n",
    "        break\n",
    "    \n",
    "    \n",
    "Y_ = hyp(X, theta_0, theta_1) \n",
    "plt.plot([min(X), max(X)], [min(X)*theta_1 + theta_0, max(X)*theta_1 + theta_0], color='blue')\n",
    "plt.scatter(X, Y, c = 'purple')\n",
    "plt.show\n",
    "\n",
    "\n",
    "\n"
   ]
  },
  {
   "cell_type": "code",
   "execution_count": null,
   "id": "0b2493f7",
   "metadata": {},
   "outputs": [],
   "source": [
    "\n",
    "    \n"
   ]
  },
  {
   "cell_type": "code",
   "execution_count": null,
   "id": "fdf5d414",
   "metadata": {},
   "outputs": [],
   "source": []
  },
  {
   "cell_type": "code",
   "execution_count": null,
   "id": "fc3867d1",
   "metadata": {},
   "outputs": [],
   "source": []
  }
 ],
 "metadata": {
  "kernelspec": {
   "display_name": "Python 3 (ipykernel)",
   "language": "python",
   "name": "python3"
  },
  "language_info": {
   "codemirror_mode": {
    "name": "ipython",
    "version": 3
   },
   "file_extension": ".py",
   "mimetype": "text/x-python",
   "name": "python",
   "nbconvert_exporter": "python",
   "pygments_lexer": "ipython3",
   "version": "3.9.7"
  }
 },
 "nbformat": 4,
 "nbformat_minor": 5
}
